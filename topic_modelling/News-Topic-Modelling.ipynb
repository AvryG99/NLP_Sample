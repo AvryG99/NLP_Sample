{
 "cells": [
  {
   "cell_type": "markdown",
   "metadata": {},
   "source": [
    "# Topic Modelling for News"
   ]
  },
  {
   "cell_type": "markdown",
   "metadata": {},
   "source": [
    "![](https://images.unsplash.com/photo-1495020689067-958852a7765e?ixlib=rb-1.2.1&ixid=eyJhcHBfaWQiOjEyMDd9&auto=format&fit=crop&w=1050&q=80)\n",
    "\n",
    "Photo by [Roman Kraft](https://unsplash.com/photos/_Zua2hyvTBk)"
   ]
  },
  {
   "cell_type": "markdown",
   "metadata": {},
   "source": [
    "This exercise is about modelling the main topics of a database of News headlines."
   ]
  },
  {
   "cell_type": "markdown",
   "metadata": {},
   "source": [
    "Begin by importing the needed libraries:"
   ]
  },
  {
   "cell_type": "code",
   "execution_count": 48,
   "metadata": {},
   "outputs": [],
   "source": [
    "# TODO: import needed libraries\n",
    "import pandas as pd\n",
    "import numpy as np "
   ]
  },
  {
   "cell_type": "markdown",
   "metadata": {},
   "source": [
    "Load the data in the file `random_headlines.csv`"
   ]
  },
  {
   "cell_type": "code",
   "execution_count": 49,
   "metadata": {
    "scrolled": true
   },
   "outputs": [
    {
     "data": {
      "text/html": [
       "<div>\n",
       "<style scoped>\n",
       "    .dataframe tbody tr th:only-of-type {\n",
       "        vertical-align: middle;\n",
       "    }\n",
       "\n",
       "    .dataframe tbody tr th {\n",
       "        vertical-align: top;\n",
       "    }\n",
       "\n",
       "    .dataframe thead th {\n",
       "        text-align: right;\n",
       "    }\n",
       "</style>\n",
       "<table border=\"1\" class=\"dataframe\">\n",
       "  <thead>\n",
       "    <tr style=\"text-align: right;\">\n",
       "      <th></th>\n",
       "      <th>publish_date</th>\n",
       "      <th>headline_text</th>\n",
       "    </tr>\n",
       "  </thead>\n",
       "  <tbody>\n",
       "    <tr>\n",
       "      <th>0</th>\n",
       "      <td>20120305</td>\n",
       "      <td>ute driver hurt in intersection crash</td>\n",
       "    </tr>\n",
       "    <tr>\n",
       "      <th>1</th>\n",
       "      <td>20081128</td>\n",
       "      <td>6yo dies in cycling accident</td>\n",
       "    </tr>\n",
       "    <tr>\n",
       "      <th>2</th>\n",
       "      <td>20090325</td>\n",
       "      <td>bumper olive harvest expected</td>\n",
       "    </tr>\n",
       "    <tr>\n",
       "      <th>3</th>\n",
       "      <td>20100201</td>\n",
       "      <td>replica replaces northernmost sign</td>\n",
       "    </tr>\n",
       "    <tr>\n",
       "      <th>4</th>\n",
       "      <td>20080225</td>\n",
       "      <td>woods targets perfect season</td>\n",
       "    </tr>\n",
       "    <tr>\n",
       "      <th>5</th>\n",
       "      <td>20091120</td>\n",
       "      <td>leckie salvages dramatic draw for adelaide</td>\n",
       "    </tr>\n",
       "    <tr>\n",
       "      <th>6</th>\n",
       "      <td>20031024</td>\n",
       "      <td>group to gauge rail services future</td>\n",
       "    </tr>\n",
       "    <tr>\n",
       "      <th>7</th>\n",
       "      <td>20130304</td>\n",
       "      <td>anti hunting rally still going ahead</td>\n",
       "    </tr>\n",
       "    <tr>\n",
       "      <th>8</th>\n",
       "      <td>20081115</td>\n",
       "      <td>dr congo refugees receive first aid</td>\n",
       "    </tr>\n",
       "    <tr>\n",
       "      <th>9</th>\n",
       "      <td>20130304</td>\n",
       "      <td>thailand signs agreement with muslim rebels</td>\n",
       "    </tr>\n",
       "  </tbody>\n",
       "</table>\n",
       "</div>"
      ],
      "text/plain": [
       "   publish_date                                headline_text\n",
       "0      20120305        ute driver hurt in intersection crash\n",
       "1      20081128                 6yo dies in cycling accident\n",
       "2      20090325                bumper olive harvest expected\n",
       "3      20100201           replica replaces northernmost sign\n",
       "4      20080225                 woods targets perfect season\n",
       "5      20091120   leckie salvages dramatic draw for adelaide\n",
       "6      20031024          group to gauge rail services future\n",
       "7      20130304         anti hunting rally still going ahead\n",
       "8      20081115          dr congo refugees receive first aid\n",
       "9      20130304  thailand signs agreement with muslim rebels"
      ]
     },
     "execution_count": 49,
     "metadata": {},
     "output_type": "execute_result"
    }
   ],
   "source": [
    "# TODO: load the dataset\n",
    "df = pd.read_csv('random_headlines.csv')\n",
    "df.head(10)"
   ]
  },
  {
   "cell_type": "markdown",
   "metadata": {},
   "source": [
    "This is always a good idea to perform some EDA (exploratory data analytics) on a dataset..."
   ]
  },
  {
   "cell_type": "code",
   "execution_count": 50,
   "metadata": {},
   "outputs": [
    {
     "name": "stdout",
     "output_type": "stream",
     "text": [
      "<class 'pandas.core.frame.DataFrame'>\n",
      "RangeIndex: 20000 entries, 0 to 19999\n",
      "Data columns (total 2 columns):\n",
      " #   Column         Non-Null Count  Dtype \n",
      "---  ------         --------------  ----- \n",
      " 0   publish_date   20000 non-null  int64 \n",
      " 1   headline_text  20000 non-null  object\n",
      "dtypes: int64(1), object(1)\n",
      "memory usage: 312.6+ KB\n",
      "None\n"
     ]
    }
   ],
   "source": [
    "# TODO: Perform a short EDA\n",
    "print(df.info())\n"
   ]
  },
  {
   "cell_type": "markdown",
   "metadata": {},
   "source": [
    "Now perform all the needed preprocessing on those headlines: case lowering, tokenization, punctuation removal, stopwords removal, stemming/lemmatization."
   ]
  },
  {
   "cell_type": "code",
   "execution_count": 51,
   "metadata": {},
   "outputs": [],
   "source": [
    "import nltk\n",
    "from nltk.tokenize import word_tokenize\n",
    "from nltk.corpus import stopwords\n",
    "from nltk.stem import PorterStemmer, WordNetLemmatizer\n",
    "import re"
   ]
  },
  {
   "cell_type": "code",
   "execution_count": 52,
   "metadata": {},
   "outputs": [
    {
     "data": {
      "text/plain": [
       "0                 [ute, driver, hurt, intersection, crash]\n",
       "1                                  [dy, cycling, accident]\n",
       "2                       [bumper, olive, harvest, expected]\n",
       "3                  [replica, replaces, northernmost, sign]\n",
       "4                          [wood, target, perfect, season]\n",
       "                               ...                        \n",
       "19995          [judge, attack, walkinshaw, running, arrow]\n",
       "19996       [polish, govt, collapse, election, held, next]\n",
       "19997                                  [drum, friday, may]\n",
       "19998          [winterbottom, bathurst, provisional, pole]\n",
       "19999    [pulled, pork, pawpaw, salad, local, success, ...\n",
       "Name: processed_headline, Length: 20000, dtype: object"
      ]
     },
     "execution_count": 52,
     "metadata": {},
     "output_type": "execute_result"
    }
   ],
   "source": [
    "# TODO: Preprocess the input data\n",
    "# Initialize the necessary components\n",
    "stop_words = set(stopwords.words('english'))\n",
    "ps = PorterStemmer()\n",
    "lemmatizer = WordNetLemmatizer()\n",
    "\n",
    "# Define a function to preprocess a single headline\n",
    "def preprocess_headline(headline):\n",
    "\n",
    "    headline = headline.lower()\n",
    "\n",
    "    tokens = word_tokenize(headline)\n",
    "\n",
    "    tokens = [re.sub(r'\\W+', '', token) for token in tokens if token.isalpha()]\n",
    "\n",
    "    tokens = [token for token in tokens if token not in stop_words]\n",
    "\n",
    "    tokens = [lemmatizer.lemmatize(token) for token in tokens]\n",
    "    return tokens\n",
    "\n",
    "# Apply preprocessing to the \"headline_text\" column\n",
    "df['processed_headline'] = df['headline_text'].apply(preprocess_headline)\n",
    "processed_headline = df['processed_headline']\n",
    "\n",
    "processed_headline"
   ]
  },
  {
   "cell_type": "markdown",
   "metadata": {},
   "source": [
    "Now use Gensim to compute a BOW"
   ]
  },
  {
   "cell_type": "code",
   "execution_count": 53,
   "metadata": {},
   "outputs": [],
   "source": [
    "from gensim.corpora.dictionary import Dictionary"
   ]
  },
  {
   "cell_type": "code",
   "execution_count": 54,
   "metadata": {},
   "outputs": [],
   "source": [
    "# TODO: Compute the BOW using Gensim\n",
    "dictionary = Dictionary(processed_headline)\n",
    "\n",
    "dictionary.filter_extremes(no_below=1, no_above=0.5)\n",
    "\n",
    "corpus = [dictionary.doc2bow(text) for text in processed_headline]"
   ]
  },
  {
   "cell_type": "markdown",
   "metadata": {},
   "source": [
    "Compute the TF-IDF using Gensim"
   ]
  },
  {
   "cell_type": "code",
   "execution_count": 55,
   "metadata": {},
   "outputs": [],
   "source": [
    "from gensim.corpora.dictionary import Dictionary\n",
    "from gensim.models import TfidfModel"
   ]
  },
  {
   "cell_type": "code",
   "execution_count": 56,
   "metadata": {},
   "outputs": [
    {
     "data": {
      "text/plain": [
       "[(0, 0.3078090045519022),\n",
       " (1, 0.3513689017461401),\n",
       " (2, 0.4282825995423115),\n",
       " (3, 0.5966762015643524),\n",
       " (4, 0.4922855238766366)]"
      ]
     },
     "execution_count": 56,
     "metadata": {},
     "output_type": "execute_result"
    }
   ],
   "source": [
    "# TODO: Compute TF-IDF\n",
    "tfidf = TfidfModel(corpus)\n",
    "tfidf_corpus = tfidf[corpus]\n",
    "tfidf_corpus[0]"
   ]
  },
  {
   "cell_type": "markdown",
   "metadata": {},
   "source": [
    "Finally compute the **LSA** (also called LSI) using Gensim, for a given number of Topics that you choose yourself"
   ]
  },
  {
   "cell_type": "code",
   "execution_count": 57,
   "metadata": {},
   "outputs": [],
   "source": [
    "from gensim.models import LsiModel"
   ]
  },
  {
   "cell_type": "code",
   "execution_count": 58,
   "metadata": {},
   "outputs": [
    {
     "name": "stdout",
     "output_type": "stream",
     "text": [
      "LSA Topics:\n",
      "Topic 0: 0.467*\"man\" + 0.420*\"police\" + 0.226*\"charged\" + 0.157*\"court\" + 0.133*\"murder\" + 0.128*\"missing\" + 0.122*\"death\" + 0.118*\"face\" + 0.117*\"new\" + 0.113*\"crash\"\n",
      "Topic 1: -0.529*\"second\" + -0.435*\"abc\" + -0.417*\"news\" + -0.362*\"weather\" + -0.278*\"business\" + -0.215*\"sport\" + 0.146*\"man\" + -0.103*\"rural\" + 0.089*\"police\" + -0.086*\"national\"\n",
      "Topic 2: 0.473*\"man\" + 0.249*\"charged\" + -0.228*\"council\" + -0.217*\"new\" + -0.207*\"govt\" + -0.196*\"plan\" + -0.143*\"say\" + 0.138*\"second\" + -0.122*\"call\" + -0.120*\"water\"\n",
      "\n",
      "LSA representation for the first headline:\n",
      "[(0, 0.06234621506730024), (1, 0.016238525479537948), (2, 0.006267734774048175)]\n"
     ]
    }
   ],
   "source": [
    "# TODO: Compute LSA\n",
    "num_topics = 3\n",
    "\n",
    "lsi_model = LsiModel(tfidf_corpus, id2word=dictionary, num_topics=num_topics)\n",
    "\n",
    "\n",
    "print(\"LSA Topics:\")\n",
    "for i, topic in lsi_model.print_topics(num_words=10):\n",
    "    print(f\"Topic {i}: {topic}\")\n",
    "\n",
    "\n",
    "lsa_corpus = lsi_model[tfidf_corpus]\n",
    "\n",
    "\n",
    "print(\"\\nLSA representation for the first headline:\")\n",
    "print(list(lsa_corpus)[0])"
   ]
  },
  {
   "cell_type": "markdown",
   "metadata": {},
   "source": [
    "For each of the topic, show the most significant words."
   ]
  },
  {
   "cell_type": "code",
   "execution_count": 59,
   "metadata": {},
   "outputs": [
    {
     "name": "stdout",
     "output_type": "stream",
     "text": [
      "LSA Topics:\n",
      "Topic 0:\n",
      "  man, police, charged, court\n",
      "Topic 1:\n",
      "  second, abc, news, weather\n",
      "Topic 2:\n",
      "  man, charged, council, new\n"
     ]
    }
   ],
   "source": [
    "# TODO: Print the 3 or 4 most significant words of each topic\n",
    "print(\"LSA Topics:\")\n",
    "for i, topic in lsi_model.show_topics(num_topics=num_topics, num_words=4, formatted=False):\n",
    "    print(f\"Topic {i}:\")\n",
    "    significant_words = [word for word, weight in topic]\n",
    "    print(f\"  {', '.join(significant_words)}\")"
   ]
  },
  {
   "cell_type": "markdown",
   "metadata": {},
   "source": [
    "What do you think about those results?"
   ]
  },
  {
   "cell_type": "markdown",
   "metadata": {},
   "source": [
    "Answer: The result seems not accurate on this dataset in The topics generated by LSA can be harder to interpret because they are linear combinations of terms. The results in topic 0 and topic 2 are quite similar and the model can't show the significant difference among these 2 topics"
   ]
  },
  {
   "cell_type": "markdown",
   "metadata": {},
   "source": [
    "Now let's try to use LDA instead of LSA using Gensim"
   ]
  },
  {
   "cell_type": "code",
   "execution_count": 63,
   "metadata": {},
   "outputs": [],
   "source": [
    "from gensim.models import LdaModel"
   ]
  },
  {
   "cell_type": "code",
   "execution_count": 65,
   "metadata": {},
   "outputs": [],
   "source": [
    "# TODO: Compute LDA\n",
    "num_topics = 3\n",
    "\n",
    "# Create the LDA model using the BOW corpus\n",
    "lda_model = LdaModel(corpus, id2word=dictionary, num_topics=num_topics, passes=10, random_state=42)"
   ]
  },
  {
   "cell_type": "code",
   "execution_count": 66,
   "metadata": {
    "scrolled": true
   },
   "outputs": [
    {
     "name": "stdout",
     "output_type": "stream",
     "text": [
      "LDA Topics:\n",
      "Topic 0:\n",
      "  fire, police, death, u\n",
      "Topic 1:\n",
      "  man, police, court, charged\n",
      "Topic 2:\n",
      "  council, govt, plan, call\n",
      "\n",
      "LDA representation for the first headline:\n",
      "[(0, 0.8845285), (1, 0.059799723), (2, 0.05567175)]\n"
     ]
    }
   ],
   "source": [
    "# TODO: print the most frequent words of each topic\n",
    "# Print the topics with the most significant words\n",
    "print(\"LDA Topics:\")\n",
    "for i, topic in lda_model.show_topics(num_topics=num_topics, num_words=4, formatted=False):\n",
    "    print(f\"Topic {i}:\")\n",
    "    significant_words = [word for word, weight in topic]\n",
    "    print(f\"  {', '.join(significant_words)}\")\n",
    "\n",
    "# Transform the corpus to the LDA space and print an example\n",
    "lda_corpus = lda_model[corpus]\n",
    "\n",
    "# Print the LDA representation for the first headline as an example\n",
    "print(\"\\nLDA representation for the first headline:\")\n",
    "print(list(lda_corpus)[0])"
   ]
  },
  {
   "cell_type": "markdown",
   "metadata": {},
   "source": [
    "Now, how does it work with LDA?"
   ]
  },
  {
   "cell_type": "markdown",
   "metadata": {},
   "source": [
    "Answer: The LDA works well on this dataset that can seperate the topics into 3 ones:\n",
    "-Topic 1: News about fire accidents\n",
    "-Topic 2: News about crimes\n",
    "-Topic 3: News about government's policies"
   ]
  },
  {
   "cell_type": "markdown",
   "metadata": {},
   "source": [
    "Let's make some visualization of the LDA results using pyLDAvis."
   ]
  },
  {
   "cell_type": "code",
   "execution_count": 67,
   "metadata": {},
   "outputs": [],
   "source": [
    "import pyLDAvis.gensim_models as gensimvis\n",
    "import pyLDAvis"
   ]
  },
  {
   "cell_type": "code",
   "execution_count": 68,
   "metadata": {},
   "outputs": [
    {
     "data": {
      "text/html": [
       "\n",
       "<link rel=\"stylesheet\" type=\"text/css\" href=\"https://cdn.jsdelivr.net/gh/bmabey/pyLDAvis@3.4.0/pyLDAvis/js/ldavis.v1.0.0.css\">\n",
       "\n",
       "\n",
       "<div id=\"ldavis_el2306818798608842246996487289\" style=\"background-color:white;\"></div>\n",
       "<script type=\"text/javascript\">\n",
       "\n",
       "var ldavis_el2306818798608842246996487289_data = {\"mdsDat\": {\"x\": [0.02192794664615721, -0.23604371476735467, 0.21411576812119765], \"y\": [-0.23336949536858867, 0.09963307809450807, 0.13373641727408064], \"topics\": [1, 2, 3], \"cluster\": [1, 1, 1], \"Freq\": [31.783288869202025, 31.366299974153332, 36.85041115664464]}, \"tinfo\": {\"Term\": [\"man\", \"court\", \"govt\", \"police\", \"plan\", \"fire\", \"council\", \"death\", \"crash\", \"charged\", \"call\", \"hit\", \"water\", \"murder\", \"set\", \"car\", \"day\", \"health\", \"charge\", \"group\", \"drug\", \"accused\", \"killed\", \"farmer\", \"minister\", \"mp\", \"top\", \"found\", \"world\", \"second\", \"fire\", \"crash\", \"death\", \"day\", \"killed\", \"minister\", \"probe\", \"search\", \"mine\", \"house\", \"gold\", \"time\", \"iraq\", \"victim\", \"future\", \"continues\", \"push\", \"pakistan\", \"blaze\", \"move\", \"decision\", \"head\", \"un\", \"station\", \"protest\", \"dog\", \"storm\", \"vote\", \"port\", \"delay\", \"open\", \"hospital\", \"u\", \"australia\", \"coast\", \"interview\", \"win\", \"police\", \"take\", \"say\", \"new\", \"election\", \"home\", \"man\", \"court\", \"charged\", \"hit\", \"murder\", \"car\", \"charge\", \"drug\", \"accused\", \"found\", \"second\", \"top\", \"news\", \"abc\", \"world\", \"dead\", \"rural\", \"sex\", \"country\", \"jail\", \"appeal\", \"cup\", \"guilty\", \"teen\", \"assault\", \"weather\", \"melbourne\", \"hour\", \"kill\", \"body\", \"rate\", \"child\", \"trial\", \"police\", \"face\", \"sydney\", \"woman\", \"missing\", \"year\", \"two\", \"new\", \"plan\", \"water\", \"govt\", \"health\", \"group\", \"farmer\", \"mp\", \"boost\", \"rise\", \"job\", \"cut\", \"government\", \"urged\", \"worker\", \"service\", \"green\", \"labor\", \"flood\", \"act\", \"concern\", \"union\", \"seek\", \"budget\", \"public\", \"want\", \"review\", \"hope\", \"funding\", \"deal\", \"fund\", \"force\", \"set\", \"council\", \"call\", \"say\", \"change\", \"back\", \"get\", \"new\", \"qld\", \"wa\"], \"Freq\": [451.0, 275.0, 299.0, 607.0, 290.0, 244.0, 323.0, 206.0, 199.0, 191.0, 283.0, 187.0, 200.0, 161.0, 186.0, 148.0, 150.0, 171.0, 135.0, 155.0, 132.0, 132.0, 132.0, 150.0, 128.0, 142.0, 121.0, 121.0, 119.0, 118.0, 244.12329053277426, 198.43523442459073, 205.60031421153948, 149.5402682428446, 131.65185561165714, 127.84138083766835, 110.77221428520153, 116.45740657076693, 114.12409376699857, 116.30161854997769, 103.91383647017501, 102.74579832268734, 92.56993282577484, 92.34953681000916, 88.65811991818494, 84.40955586780127, 87.49532784878525, 73.75965293277669, 69.53463929372286, 72.11999160597864, 74.75568652865611, 69.99284739346528, 66.19883209457743, 64.93715411042237, 66.69128015405471, 64.6258210131258, 62.522713100506145, 62.727568274236965, 64.48503480174588, 63.69846472894518, 129.48693356330327, 133.88241816818567, 202.68032133493924, 148.98848104250527, 113.11368090643226, 177.0861412333445, 143.90399127004454, 244.02564211545499, 113.00919208917483, 142.85222473748803, 127.23980524355048, 77.64573652250817, 76.3742496629701, 450.51891362541346, 274.5560105568308, 190.71853249154864, 187.17688832721066, 161.08274989892996, 148.22434689810592, 135.04357574295332, 131.79531911608566, 131.45273645703023, 120.8837946956041, 118.29134814981253, 121.32344893480831, 113.4040308492736, 108.92506452598599, 119.19804885553062, 108.22899776073736, 106.63172222155896, 99.6398711855764, 93.33345519423183, 91.73009582338618, 93.2187015417497, 93.36886429331975, 85.64005295361589, 87.40033322401665, 82.48145042740123, 85.38209699244409, 87.20651972947448, 73.09223255636603, 77.87425911008259, 76.41808800660515, 115.76405554512729, 126.46035318177483, 122.51951375730052, 363.34881446950357, 154.42526984773278, 135.26112517188196, 152.15673489139718, 110.21595320756764, 109.5138101030553, 103.41523338566311, 146.2249690462211, 289.2223086367689, 199.9246795058612, 299.01240579237935, 170.41668357683093, 155.05122815471833, 149.85831577632806, 142.11159474897244, 132.4677755755164, 135.01603872389464, 133.39591632616768, 131.44446347193136, 127.70155865897077, 116.04748672029083, 116.38389615114752, 115.74469358585053, 109.15954367433768, 108.95462422406965, 112.22961202082111, 111.93520755631661, 107.49484601474832, 102.01406053921175, 109.0967562843565, 98.38652854560956, 98.71800864261101, 100.83137250922837, 99.03471834281049, 99.01772974577366, 91.9756393882615, 96.38254307628732, 91.8315091872869, 95.19579714825525, 183.81686640514874, 308.2575826950562, 266.85675902111444, 212.28568833843832, 127.98573475572563, 139.03526790896922, 124.99386676990291, 186.9137027949425, 119.81327772615076, 108.86939076028334], \"Total\": [451.0, 275.0, 299.0, 607.0, 290.0, 244.0, 323.0, 206.0, 199.0, 191.0, 283.0, 187.0, 200.0, 161.0, 186.0, 148.0, 150.0, 171.0, 135.0, 155.0, 132.0, 132.0, 132.0, 150.0, 128.0, 142.0, 121.0, 121.0, 119.0, 118.0, 244.75242269461472, 199.07490604609097, 206.26315786999768, 150.18659674063858, 132.27482008342818, 128.5243742171937, 111.40361849837895, 117.12408409402514, 114.78396880659399, 116.97956403947316, 104.5450385140334, 103.41385954143642, 93.20873518485094, 93.01237531122344, 89.30074584864168, 85.05816762736637, 88.19982057222059, 74.3818338578413, 70.15474788034139, 72.7649457413674, 75.42796713628205, 70.63599142883773, 66.83575121837859, 65.57307178017275, 67.36526327365765, 65.28306003440419, 63.1591920000734, 63.3802835964801, 65.15749552972046, 64.36863566260548, 142.52096213252224, 151.06016426935747, 258.99597428947465, 198.79500130912498, 140.42813721757247, 276.23696962711733, 239.26759678996612, 607.6939155165875, 197.67480050684736, 373.52045583471676, 460.37847708471406, 133.07570016330268, 158.0832209493512, 451.1356347215335, 275.18387031228684, 191.32206133197673, 187.85045954217514, 161.69160841558386, 148.86063048126866, 135.66530803094, 132.40903175365315, 132.07301832888783, 121.50861056655621, 118.90992827360331, 121.9730867417594, 114.01586352222492, 109.52856416932487, 119.87243790611736, 108.87533042790518, 107.26996564917474, 100.26093845264538, 93.95505594346727, 92.3439932210891, 93.8510868439587, 94.02305039512409, 86.24224276092028, 88.01938219926706, 83.08114295131136, 86.03526144926042, 87.90106005947172, 73.69856598384317, 78.54415629676132, 77.07675478471043, 116.80969573537683, 132.66586181384463, 132.70765943587293, 607.6939155165875, 201.46949061698484, 169.2489482447076, 205.78068449125163, 134.23829564951708, 149.41487422117834, 134.08382183064452, 460.37847708471406, 290.0464352856425, 200.54487319232382, 299.94317888804414, 171.0599689432879, 155.69183041582545, 150.48084466392936, 142.75648192121852, 133.08504859066292, 135.65094960045312, 134.02601512462127, 132.09180770932085, 128.33351597227394, 116.66477162513605, 117.02061321400983, 116.37895968859718, 109.77031481009135, 109.5824999561913, 112.8979465054253, 112.61289258087531, 108.16019238279135, 102.64591672251474, 109.78003319722353, 99.01301339523695, 99.35219395518833, 101.48621218260742, 99.68350593672466, 99.66768924069798, 92.59148040688012, 97.0315756044721, 92.46362129793246, 95.88471416726509, 186.65231399084504, 323.7103090470638, 283.4672668089022, 373.52045583471676, 174.01469688191537, 215.3112925187345, 169.9147905798865, 460.37847708471406, 197.59715847594106, 181.37828530477174], \"Category\": [\"Default\", \"Default\", \"Default\", \"Default\", \"Default\", \"Default\", \"Default\", \"Default\", \"Default\", \"Default\", \"Default\", \"Default\", \"Default\", \"Default\", \"Default\", \"Default\", \"Default\", \"Default\", \"Default\", \"Default\", \"Default\", \"Default\", \"Default\", \"Default\", \"Default\", \"Default\", \"Default\", \"Default\", \"Default\", \"Default\", \"Topic1\", \"Topic1\", \"Topic1\", \"Topic1\", \"Topic1\", \"Topic1\", \"Topic1\", \"Topic1\", \"Topic1\", \"Topic1\", \"Topic1\", \"Topic1\", \"Topic1\", \"Topic1\", \"Topic1\", \"Topic1\", \"Topic1\", \"Topic1\", \"Topic1\", \"Topic1\", \"Topic1\", \"Topic1\", \"Topic1\", \"Topic1\", \"Topic1\", \"Topic1\", \"Topic1\", \"Topic1\", \"Topic1\", \"Topic1\", \"Topic1\", \"Topic1\", \"Topic1\", \"Topic1\", \"Topic1\", \"Topic1\", \"Topic1\", \"Topic1\", \"Topic1\", \"Topic1\", \"Topic1\", \"Topic1\", \"Topic1\", \"Topic2\", \"Topic2\", \"Topic2\", \"Topic2\", \"Topic2\", \"Topic2\", \"Topic2\", \"Topic2\", \"Topic2\", \"Topic2\", \"Topic2\", \"Topic2\", \"Topic2\", \"Topic2\", \"Topic2\", \"Topic2\", \"Topic2\", \"Topic2\", \"Topic2\", \"Topic2\", \"Topic2\", \"Topic2\", \"Topic2\", \"Topic2\", \"Topic2\", \"Topic2\", \"Topic2\", \"Topic2\", \"Topic2\", \"Topic2\", \"Topic2\", \"Topic2\", \"Topic2\", \"Topic2\", \"Topic2\", \"Topic2\", \"Topic2\", \"Topic2\", \"Topic2\", \"Topic2\", \"Topic2\", \"Topic3\", \"Topic3\", \"Topic3\", \"Topic3\", \"Topic3\", \"Topic3\", \"Topic3\", \"Topic3\", \"Topic3\", \"Topic3\", \"Topic3\", \"Topic3\", \"Topic3\", \"Topic3\", \"Topic3\", \"Topic3\", \"Topic3\", \"Topic3\", \"Topic3\", \"Topic3\", \"Topic3\", \"Topic3\", \"Topic3\", \"Topic3\", \"Topic3\", \"Topic3\", \"Topic3\", \"Topic3\", \"Topic3\", \"Topic3\", \"Topic3\", \"Topic3\", \"Topic3\", \"Topic3\", \"Topic3\", \"Topic3\", \"Topic3\", \"Topic3\", \"Topic3\", \"Topic3\", \"Topic3\"], \"logprob\": [30.0, 29.0, 28.0, 27.0, 26.0, 25.0, 24.0, 23.0, 22.0, 21.0, 20.0, 19.0, 18.0, 17.0, 16.0, 15.0, 14.0, 13.0, 12.0, 11.0, 10.0, 9.0, 8.0, 7.0, 6.0, 5.0, 4.0, 3.0, 2.0, 1.0, -4.8946, -5.1018, -5.0664, -5.3847, -5.5121, -5.5415, -5.6848, -5.6348, -5.655, -5.6361, -5.7487, -5.76, -5.8643, -5.8667, -5.9075, -5.9566, -5.9207, -6.0915, -6.1505, -6.114, -6.0781, -6.1439, -6.1996, -6.2189, -6.1922, -6.2237, -6.2568, -6.2535, -6.2259, -6.2381, -5.5287, -5.4953, -5.0807, -5.3884, -5.6639, -5.2157, -5.4231, -4.895, -5.6648, -5.4305, -5.5462, -6.0401, -6.0566, -4.2687, -4.7639, -5.1283, -5.147, -5.2972, -5.3804, -5.4735, -5.4978, -5.5004, -5.5843, -5.6059, -5.5806, -5.6481, -5.6884, -5.5983, -5.6948, -5.7097, -5.7775, -5.8429, -5.8602, -5.8441, -5.8425, -5.9289, -5.9086, -5.9665, -5.932, -5.9108, -6.0874, -6.024, -6.0429, -5.6275, -5.5392, -5.5708, -4.4837, -5.3394, -5.4719, -5.3542, -5.6766, -5.683, -5.7403, -5.3939, -4.873, -5.2423, -4.8397, -5.402, -5.4965, -5.5305, -5.5836, -5.6539, -5.6348, -5.6469, -5.6616, -5.6905, -5.7862, -5.7833, -5.7888, -5.8474, -5.8493, -5.8197, -5.8223, -5.8628, -5.9151, -5.848, -5.9513, -5.948, -5.9268, -5.9448, -5.9449, -6.0187, -5.9719, -6.0203, -5.9843, -5.3263, -4.8093, -4.9535, -5.1823, -5.6883, -5.6055, -5.712, -5.3096, -5.7543, -5.8501], \"loglift\": [30.0, 29.0, 28.0, 27.0, 26.0, 25.0, 24.0, 23.0, 22.0, 21.0, 20.0, 19.0, 18.0, 17.0, 16.0, 15.0, 14.0, 13.0, 12.0, 11.0, 10.0, 9.0, 8.0, 7.0, 6.0, 5.0, 4.0, 3.0, 2.0, 1.0, 1.1437, 1.143, 1.143, 1.1419, 1.1415, 1.1409, 1.1405, 1.1405, 1.1405, 1.1404, 1.1402, 1.1397, 1.1394, 1.1391, 1.139, 1.1386, 1.1382, 1.1378, 1.1374, 1.1373, 1.1373, 1.1371, 1.1367, 1.1365, 1.1362, 1.1361, 1.1361, 1.1359, 1.1359, 1.1358, 1.0503, 1.0255, 0.901, 0.8578, 0.9299, 0.7016, 0.6378, 0.2338, 0.5871, 0.1851, -0.1397, 0.6075, 0.4188, 1.1581, 1.1572, 1.1563, 1.1558, 1.1557, 1.1552, 1.1548, 1.1548, 1.1547, 1.1543, 1.1542, 1.1541, 1.1541, 1.1539, 1.1538, 1.1535, 1.1535, 1.1532, 1.1528, 1.1528, 1.1527, 1.1525, 1.1524, 1.1524, 1.1522, 1.1518, 1.1515, 1.1512, 1.1509, 1.1509, 1.1504, 1.1115, 1.0796, 0.6451, 0.8935, 0.9353, 0.8575, 0.9623, 0.8488, 0.8997, 0.0125, 0.9955, 0.9952, 0.9952, 0.9945, 0.9942, 0.9942, 0.9938, 0.9937, 0.9936, 0.9936, 0.9934, 0.9934, 0.993, 0.9928, 0.9928, 0.9927, 0.9926, 0.9924, 0.9923, 0.9921, 0.9921, 0.9921, 0.992, 0.9919, 0.9918, 0.9918, 0.9918, 0.9916, 0.9916, 0.9914, 0.9911, 0.983, 0.9494, 0.9379, 0.4333, 0.6911, 0.5609, 0.6913, 0.0969, 0.498, 0.4879]}, \"token.table\": {\"Topic\": [2, 2, 3, 2, 2, 1, 2, 3, 1, 2, 3, 1, 2, 3, 3, 1, 3, 2, 1, 2, 3, 2, 2, 1, 2, 3, 1, 3, 3, 1, 1, 3, 2, 2, 1, 2, 3, 1, 2, 3, 1, 1, 1, 1, 2, 1, 3, 1, 2, 3, 1, 3, 3, 2, 3, 3, 1, 2, 3, 1, 3, 1, 3, 3, 3, 2, 1, 3, 2, 1, 2, 3, 1, 2, 2, 1, 1, 3, 1, 2, 3, 2, 1, 3, 2, 2, 1, 1, 1, 2, 1, 3, 2, 1, 2, 3, 2, 1, 3, 1, 1, 3, 1, 2, 1, 1, 1, 3, 1, 1, 2, 3, 2, 3, 3, 3, 2, 1, 2, 3, 1, 2, 3, 3, 1, 3, 2, 1, 1, 1, 2, 1, 3, 2, 1, 2, 1, 2, 1, 2, 1, 2, 3, 1, 3, 3, 1, 1, 1, 2, 3, 3, 3, 2, 1, 3, 1, 2, 3, 2, 1, 2, 3], \"Freq\": [0.9951741888215777, 0.9918755674515154, 0.9945575274124573, 0.9909315185089571, 0.9869869032501761, 0.7495158279573938, 0.010060615140367702, 0.24145476336882485, 0.23686635012681664, 0.11611095594451797, 0.6455769150515198, 0.9977941923388374, 0.9860300970413453, 0.9918469534921217, 0.9897688863261515, 0.05644390684017251, 0.9419076953953788, 0.9942185487291957, 0.1838925135255379, 0.08045297466742284, 0.7355700541021516, 0.9950959604883788, 0.9983166534495053, 0.007537734171607687, 0.9497545056225686, 0.03768867085803843, 0.8046820405010667, 0.1922691601197239, 0.9892733883212291, 0.9875594824473279, 0.046337727223321676, 0.9514679989855384, 0.9898349702006252, 0.9993318274356772, 0.9946004945201777, 0.9891191533265002, 0.9917344782522511, 0.9987575672883725, 0.9919602500909532, 0.989368660685496, 0.9987241644474214, 0.9943261478132003, 0.99427305458923, 0.9956641120337341, 0.9969108470303283, 0.5861325539094138, 0.4132985957053559, 0.2332859424822394, 0.7643837264311675, 0.9968046121418096, 0.9969257804015548, 0.9920463876162517, 0.990773146951017, 0.9958142014447805, 0.9949859059008883, 0.9936119348747753, 0.9966322134738782, 0.26483862791710866, 0.7356628553253018, 0.9947865673801418, 0.9974011779405623, 0.0033339647986235983, 0.9968554747884558, 0.992982485188058, 0.9955564115729278, 0.9971911356527239, 0.9909962128941241, 0.9938035242854549, 0.9954726778723466, 0.4807594350848272, 0.5123883452877763, 0.9933008455821073, 0.8870637778538539, 0.1125379419665337, 0.9905213083250994, 0.9916261951605272, 0.6407542054885924, 0.358387945442772, 0.9977605619855588, 0.9962748717150935, 0.9923446569409137, 0.9930719696739074, 0.9979223552656896, 0.9946843706210009, 0.9996993482423147, 0.9897491559389376, 0.9931700496615956, 0.9959200406896551, 0.17878653691090973, 0.8194382941750029, 0.9894874416029074, 0.9947008926597393, 0.9957226697021514, 0.27585998547154233, 0.31713037699878094, 0.4061875376628222, 0.9910901563094604, 0.9051300108404414, 0.09121465225523828, 0.9948665710693412, 0.0034477238067593683, 0.9963921801534574, 0.4015179250109504, 0.5973401917171106, 0.982235420187498, 0.9963769713783146, 0.9945778691285768, 0.9964550963479761, 0.9863965644778365, 0.19231045776716868, 0.20243206080754597, 0.6072961824226379, 0.9930682489130771, 0.008560933180285148, 0.9931432393924977, 0.9952012897633933, 0.9974833062773819, 0.3828438249263587, 0.04819013180891228, 0.5675726635271892, 0.9904026221189253, 0.9923477518924271, 0.9928945804213579, 0.996743743975619, 0.016072664387901156, 0.9857900824579376, 0.9973974066403875, 0.9912605622305766, 0.997479511769669, 0.20088751128214574, 0.7976415889144022, 0.5716459544173701, 0.42494035549609815, 0.9884186621878431, 0.9959980263450994, 0.9920221192416028, 0.07535360085852623, 0.9268492905598725, 0.22374063917936127, 0.768176194515807, 0.7837959665469971, 0.05791595811923624, 0.16216468273386148, 0.9874954466263443, 0.9937073315418784, 0.9943018649428117, 0.9891156923168989, 0.9939999701026706, 0.12129346113859871, 0.28118029627584246, 0.60095396655033, 0.995209081389967, 0.9972830360425057, 0.9879670099001098, 0.6018366127796488, 0.39704498759768503, 0.25755575714519113, 0.7386504733220575, 0.9912783467290219, 0.9927219474188, 0.2543254157129546, 0.7362051507480264, 0.013385548195418661], \"Term\": [\"abc\", \"accused\", \"act\", \"appeal\", \"assault\", \"australia\", \"australia\", \"australia\", \"back\", \"back\", \"back\", \"blaze\", \"body\", \"boost\", \"budget\", \"call\", \"call\", \"car\", \"change\", \"change\", \"change\", \"charge\", \"charged\", \"child\", \"child\", \"child\", \"coast\", \"coast\", \"concern\", \"continues\", \"council\", \"council\", \"country\", \"court\", \"crash\", \"cup\", \"cut\", \"day\", \"dead\", \"deal\", \"death\", \"decision\", \"delay\", \"dog\", \"drug\", \"election\", \"election\", \"face\", \"face\", \"farmer\", \"fire\", \"flood\", \"force\", \"found\", \"fund\", \"funding\", \"future\", \"get\", \"get\", \"gold\", \"government\", \"govt\", \"govt\", \"green\", \"group\", \"guilty\", \"head\", \"health\", \"hit\", \"home\", \"home\", \"hope\", \"hospital\", \"hospital\", \"hour\", \"house\", \"interview\", \"interview\", \"iraq\", \"jail\", \"job\", \"kill\", \"killed\", \"labor\", \"man\", \"melbourne\", \"mine\", \"minister\", \"missing\", \"missing\", \"move\", \"mp\", \"murder\", \"new\", \"new\", \"new\", \"news\", \"open\", \"open\", \"pakistan\", \"plan\", \"plan\", \"police\", \"police\", \"port\", \"probe\", \"protest\", \"public\", \"push\", \"qld\", \"qld\", \"qld\", \"rate\", \"rate\", \"review\", \"rise\", \"rural\", \"say\", \"say\", \"say\", \"search\", \"second\", \"seek\", \"service\", \"set\", \"set\", \"sex\", \"station\", \"storm\", \"sydney\", \"sydney\", \"take\", \"take\", \"teen\", \"time\", \"top\", \"trial\", \"trial\", \"two\", \"two\", \"u\", \"u\", \"u\", \"un\", \"union\", \"urged\", \"victim\", \"vote\", \"wa\", \"wa\", \"wa\", \"want\", \"water\", \"weather\", \"win\", \"win\", \"woman\", \"woman\", \"worker\", \"world\", \"year\", \"year\", \"year\"]}, \"R\": 30, \"lambda.step\": 0.01, \"plot.opts\": {\"xlab\": \"PC1\", \"ylab\": \"PC2\"}, \"topic.order\": [1, 2, 3]};\n",
       "\n",
       "function LDAvis_load_lib(url, callback){\n",
       "  var s = document.createElement('script');\n",
       "  s.src = url;\n",
       "  s.async = true;\n",
       "  s.onreadystatechange = s.onload = callback;\n",
       "  s.onerror = function(){console.warn(\"failed to load library \" + url);};\n",
       "  document.getElementsByTagName(\"head\")[0].appendChild(s);\n",
       "}\n",
       "\n",
       "if(typeof(LDAvis) !== \"undefined\"){\n",
       "   // already loaded: just create the visualization\n",
       "   !function(LDAvis){\n",
       "       new LDAvis(\"#\" + \"ldavis_el2306818798608842246996487289\", ldavis_el2306818798608842246996487289_data);\n",
       "   }(LDAvis);\n",
       "}else if(typeof define === \"function\" && define.amd){\n",
       "   // require.js is available: use it to load d3/LDAvis\n",
       "   require.config({paths: {d3: \"https://d3js.org/d3.v5\"}});\n",
       "   require([\"d3\"], function(d3){\n",
       "      window.d3 = d3;\n",
       "      LDAvis_load_lib(\"https://cdn.jsdelivr.net/gh/bmabey/pyLDAvis@3.4.0/pyLDAvis/js/ldavis.v3.0.0.js\", function(){\n",
       "        new LDAvis(\"#\" + \"ldavis_el2306818798608842246996487289\", ldavis_el2306818798608842246996487289_data);\n",
       "      });\n",
       "    });\n",
       "}else{\n",
       "    // require.js not available: dynamically load d3 & LDAvis\n",
       "    LDAvis_load_lib(\"https://d3js.org/d3.v5.js\", function(){\n",
       "         LDAvis_load_lib(\"https://cdn.jsdelivr.net/gh/bmabey/pyLDAvis@3.4.0/pyLDAvis/js/ldavis.v3.0.0.js\", function(){\n",
       "                 new LDAvis(\"#\" + \"ldavis_el2306818798608842246996487289\", ldavis_el2306818798608842246996487289_data);\n",
       "            })\n",
       "         });\n",
       "}\n",
       "</script>"
      ],
      "text/plain": [
       "<IPython.core.display.HTML object>"
      ]
     },
     "execution_count": 68,
     "metadata": {},
     "output_type": "execute_result"
    }
   ],
   "source": [
    "# TODO: show visualization results of the LDA\n",
    "lda_display = gensimvis.prepare(lda_model, corpus, dictionary, sort_topics=False)\n",
    "\n",
    "pyLDAvis.display(lda_display)"
   ]
  },
  {
   "cell_type": "markdown",
   "metadata": {},
   "source": [
    "Depending on your results, you can try to fine tune the algorithm: number of topics, hyperparameters...\n",
    "And check with others their results."
   ]
  }
 ],
 "metadata": {
  "kernelspec": {
   "display_name": "Python 3",
   "language": "python",
   "name": "python3"
  },
  "language_info": {
   "codemirror_mode": {
    "name": "ipython",
    "version": 3
   },
   "file_extension": ".py",
   "mimetype": "text/x-python",
   "name": "python",
   "nbconvert_exporter": "python",
   "pygments_lexer": "ipython3",
   "version": "3.10.11"
  },
  "toc": {
   "base_numbering": 1,
   "nav_menu": {},
   "number_sections": true,
   "sideBar": true,
   "skip_h1_title": false,
   "title_cell": "Table of Contents",
   "title_sidebar": "Contents",
   "toc_cell": false,
   "toc_position": {},
   "toc_section_display": true,
   "toc_window_display": false
  }
 },
 "nbformat": 4,
 "nbformat_minor": 2
}
